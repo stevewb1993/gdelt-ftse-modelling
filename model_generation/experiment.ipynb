{
 "cells": [
  {
   "cell_type": "code",
   "execution_count": 66,
   "source": [
    "import pandas\r\n",
    "from yahoo_fin.stock_info import get_data\r\n",
    "import google.cloud\r\n",
    "from datetime import timedelta\r\n",
    "from sklearn.linear_model import LinearRegression\r\n",
    "from sklearn.model_selection import train_test_split\r\n",
    "from sklearn.metrics import mean_squared_error, r2_score\r\n",
    "import joblib\r\n",
    "import matplotlib.pyplot as plt\r\n"
   ],
   "outputs": [],
   "metadata": {}
  },
  {
   "cell_type": "code",
   "execution_count": 29,
   "source": [
    "# Get historical FTSE data that can be used for training and testing\r\n",
    "ftse_historical = get_data(\"^ftse\", start_date=\"12/04/2009\", end_date=\"12/04/2019\", index_as_date = False, interval=\"1d\")"
   ],
   "outputs": [],
   "metadata": {}
  },
  {
   "cell_type": "code",
   "execution_count": 30,
   "source": [
    "# Calculate the daily change in price which will be our dependent variable for analysis\r\n",
    "ftse_historical[\"change\"] = ftse_historical[\"close\"] - ftse_historical[\"open\"]"
   ],
   "outputs": [],
   "metadata": {}
  },
  {
   "cell_type": "code",
   "execution_count": 31,
   "source": [
    "# Load GDELT data from BigQuery"
   ],
   "outputs": [],
   "metadata": {}
  },
  {
   "cell_type": "code",
   "execution_count": 32,
   "source": [
    "%load_ext google.cloud.bigquery"
   ],
   "outputs": [
    {
     "output_type": "stream",
     "name": "stdout",
     "text": [
      "The google.cloud.bigquery extension is already loaded. To reload it, use:\n",
      "  %reload_ext google.cloud.bigquery\n"
     ]
    }
   ],
   "metadata": {}
  },
  {
   "cell_type": "code",
   "execution_count": 33,
   "source": [
    "%%bigquery gdelt_events_daily_summary\r\n",
    "SELECT\r\n",
    "    PARSE_DATE(\"%Y%m%d\",CAST(SQLDATE as string)) as EventDate\r\n",
    "    --, Actor1KnownGroupCode\r\n",
    "    --, Actor1EthnicCode\r\n",
    "    --, Actor1Religion1Code\r\n",
    "    --, Actor1Type1Code\r\n",
    "    --, Actor2KnownGroupCode\r\n",
    "    --, Actor2EthnicCode\r\n",
    "    --, Actor2Religion1Code\r\n",
    "    --, Actor2Type1Code\r\n",
    "    --, NumMentions\r\n",
    "    --, NumSources\r\n",
    "    , avg(AvgTone) as AvgTone\r\n",
    "    , STDDEV(AvgTone) as StdDevTone\r\n",
    "    , avg(GoldsteinScale) as AvgGoldstein\r\n",
    "    , STDDEV(GoldsteinScale) as StdDevGoldstein\r\n",
    "FROM \r\n",
    "    `gdelt-bq.gdeltv2.events` \r\n",
    "where \r\n",
    "    PARSE_DATE(\"%Y%m%d\",CAST(SQLDATE as string)) > DATE \"2010-01-01\"\r\n",
    "AND\r\n",
    "    (Actor1CountryCode = 'GBR'\r\n",
    "    or \r\n",
    "    Actor2CountryCode = 'GBR')\r\n",
    "GROUP BY\r\n",
    "    1\r\n",
    "    "
   ],
   "outputs": [],
   "metadata": {}
  },
  {
   "cell_type": "code",
   "execution_count": 34,
   "source": [
    "# As we are using todays events to predict tomorrow's change in prices, we must add a day to the event date so that we can join to the FTSE table\r\n",
    "gdelt_events_daily_summary[\"date_t1\"] = gdelt_events_daily_summary[\"EventDate\"] + timedelta(days=1)"
   ],
   "outputs": [],
   "metadata": {}
  },
  {
   "cell_type": "code",
   "execution_count": 35,
   "source": [
    "# Dates from bigquery must be converted to proper datetime data types so they can be joined to the FTSE table\r\n",
    "gdelt_events_daily_summary[\"EventDate\"] = gdelt_events_daily_summary[\"EventDate\"].astype(\"datetime64[ns]\")\r\n",
    "gdelt_events_daily_summary[\"date_t1\"] = gdelt_events_daily_summary[\"date_t1\"].astype(\"datetime64[ns]\")"
   ],
   "outputs": [],
   "metadata": {}
  },
  {
   "cell_type": "code",
   "execution_count": 36,
   "source": [
    "# Join GDELT and FTSE data\r\n",
    "gdelt_ftse = ftse_historical.merge(right = gdelt_events_daily_summary, how = 'inner', left_on = \"date\", right_on = \"date_t1\")\r\n",
    "gdelt_ftse.dropna(inplace = True)"
   ],
   "outputs": [],
   "metadata": {}
  },
  {
   "cell_type": "code",
   "execution_count": 37,
   "source": [
    "# Dependent Variable\r\n",
    "Y = gdelt_ftse[\"change\"]"
   ],
   "outputs": [],
   "metadata": {}
  },
  {
   "cell_type": "code",
   "execution_count": 60,
   "source": [
    "# Independent Variables\r\n",
    "X = gdelt_ftse[[\"AvgTone\", \"StdDevTone\", \"AvgGoldstein\", \"StdDevGoldstein\"]]\r\n",
    "# Add a constant\r\n",
    "# X[\"constant\"] = 1"
   ],
   "outputs": [],
   "metadata": {}
  },
  {
   "cell_type": "code",
   "execution_count": 61,
   "source": [
    "# Split training and testing data\r\n",
    "X_train, X_test, Y_train, Y_test = train_test_split( X, Y, test_size=0.4, random_state=0)"
   ],
   "outputs": [],
   "metadata": {}
  },
  {
   "cell_type": "code",
   "execution_count": 62,
   "source": [
    "# Run linear regression model\r\n",
    "regr = LinearRegression()\r\n",
    "regr.fit(X_train,Y_train, )"
   ],
   "outputs": [
    {
     "output_type": "execute_result",
     "data": {
      "text/plain": [
       "LinearRegression()"
      ]
     },
     "metadata": {},
     "execution_count": 62
    }
   ],
   "metadata": {}
  },
  {
   "cell_type": "code",
   "execution_count": 49,
   "source": [
    "# Test model against test data\r\n",
    "Y_pred = regr.predict(X_test)"
   ],
   "outputs": [],
   "metadata": {}
  },
  {
   "cell_type": "code",
   "execution_count": 50,
   "source": [
    "# Review model predictions against reality\r\n",
    "plt.scatter(Y_pred, Y_test,  color='black')"
   ],
   "outputs": [
    {
     "output_type": "execute_result",
     "data": {
      "text/plain": [
       "<matplotlib.collections.PathCollection at 0x2d27d1f3448>"
      ]
     },
     "metadata": {},
     "execution_count": 50
    },
    {
     "output_type": "display_data",
     "data": {
      "text/plain": [
       "<Figure size 432x288 with 1 Axes>"
      ],
      "image/png": "[encoded data removed]"
     },
     "metadata": {
      "needs_background": "light"
     }
    }
   ],
   "metadata": {}
  },
  {
   "cell_type": "code",
   "execution_count": 59,
   "source": [
    "# The coefficients\r\n",
    "print('Coefficients: \\n', list(zip(X.columns, regr.coef_)))"
   ],
   "outputs": [
    {
     "output_type": "stream",
     "name": "stdout",
     "text": [
      "Coefficients: \n",
      " [('AvgTone', 2.4061805251429216), ('StdDevTone', -4.936266920768984), ('AvgGoldstein', -4.339189763539138), ('StdDevGoldstein', 2.0281175694677342), ('constant', 0.0)]\n"
     ]
    }
   ],
   "metadata": {}
  },
  {
   "cell_type": "code",
   "execution_count": 52,
   "source": [
    "# The mean squared error\r\n",
    "print('Mean squared error: %.2f'\r\n",
    "      % mean_squared_error(Y_test, Y_pred))"
   ],
   "outputs": [
    {
     "output_type": "stream",
     "name": "stdout",
     "text": [
      "Mean squared error: 3630.70\n"
     ]
    }
   ],
   "metadata": {}
  },
  {
   "cell_type": "code",
   "execution_count": 63,
   "source": [
    "# R-Squared\r\n",
    "print('Coefficient of determination: %.2f'\r\n",
    "      % r2_score(Y_test, Y_pred))"
   ],
   "outputs": [
    {
     "output_type": "stream",
     "name": "stdout",
     "text": [
      "Coefficient of determination: -0.02\n"
     ]
    }
   ],
   "metadata": {}
  },
  {
   "cell_type": "code",
   "execution_count": 67,
   "source": [
    "# Save Model\r\n",
    "joblib.dump(regr, \"gdelt_ftse_regression.pkl\")"
   ],
   "outputs": [
    {
     "output_type": "execute_result",
     "data": {
      "text/plain": [
       "['gdelt_ftse_regression.pkl']"
      ]
     },
     "metadata": {},
     "execution_count": 67
    }
   ],
   "metadata": {}
  },
  {
   "cell_type": "code",
   "execution_count": null,
   "source": [],
   "outputs": [],
   "metadata": {}
  }
 ],
 "metadata": {
  "orig_nbformat": 4,
  "language_info": {
   "name": "python"
  }
 },
 "nbformat": 4,
 "nbformat_minor": 2
}